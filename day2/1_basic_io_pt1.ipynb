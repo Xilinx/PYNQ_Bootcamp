{
 "cells": [
  {
   "cell_type": "markdown",
   "metadata": {},
   "source": [
    "# Interacting With External Peripherals\n",
    "Yesterday you played around with the on-board LEDs, buttons, and switches. Now we are going to learn about how to control external peripherals. External peripherals are similar to internal peripherals in behavior. The power of using external peripherals is their ability to be added or removed easily."
   ]
  },
  {
   "cell_type": "markdown",
   "metadata": {},
   "source": [
    " ## Controlling an External LED\n",
    "First we are going to look at how to control an external LED. Unlike the internal LEDS, external LEDS require a few components to use.\n",
    "\n",
    "The first of these components is the LED itself. The LED has two \"legs\" connected by the colored part. Each leg is a different connection while the colored part is the light. The longer leg is the anode (positive) and the shorter leg is the cathode (negative).\n",
    "\n",
    "Here is a diagram of an LED.\n",
    "<img src=https://upload.wikimedia.org/wikipedia/commons/thumb/5/52/%2B-_of_LED_2.svg/800px-%2B-_of_LED_2.svg.png width=\"200\">\n",
    "\n",
    "The second component is a resistor. A resistor is a component that resists the flow of current. To put it simply, the resistor limits the amount of power that can pass through the LED, keeping it from burning up. Unlike an LED, a resistor isn't sided, that is, it doesn't matter which side you connected where.\n",
    "\n",
    "Here is a picture of a few resistors.\n",
    "<img src=https://upload.wikimedia.org/wikipedia/commons/thumb/7/75/Electronic-Axial-Lead-Resistors-Array.jpg/1280px-Electronic-Axial-Lead-Resistors-Array.jpg width=\"200\">\n",
    "\n",
    "The third component is a breadboard. Breadboards are not strictly necessary, but they can help make connecting all the wires a lot easier. \n",
    "\n",
    "Here is a picture of one.\n",
    "\n",
    "<img src=https://upload.wikimedia.org/wikipedia/commons/thumb/1/19/Electronics-White-Breadboard.jpg/1920px-Electronics-White-Breadboard.jpg width=\"500\">\n",
    "\n",
    "The final component is jumper wires! Jumper wires allow us to connect components on a breadboard to each other and to things like the PYNQ board. \n",
    "\n",
    "Here is a picture. \n",
    "<img src=https://upload.wikimedia.org/wikipedia/commons/thumb/5/5c/A_few_Jumper_Wires.jpg/1280px-A_few_Jumper_Wires.jpg width=\"500\">\n",
    "Source: Jump wires: By oomlout (A few Jumper Wires) [CC BY-SA 2.0 (http://creativecommons.org/licenses/by-sa/2.0)], via Wikimedia Commons"
   ]
  },
  {
   "cell_type": "markdown",
   "metadata": {},
   "source": [
    "## Connecting the LED"
   ]
  },
  {
   "cell_type": "markdown",
   "metadata": {},
   "source": [
    "At this point we are ready to connect everything. Make sure you have all of the following components:\n",
    "- 2 Jumper wires\n",
    "- 1 LED\n",
    "- 1 resistor\n",
    "- 1 breadboard\n",
    "\n",
    "A few connections are required for us to use the LED. We will start with connecting everything on the breadboard.\n",
    "\n",
    "Now we will connect all the components to your breadboard. Setup your breadboard like the one in the next photo. Note that your wires may not be the same color as in the picture. The kinked leg of the LED corresponds to the anode (the longer led).\n",
    "\n",
    "<img src=data/led_connection_picture.jpg>\n",
    "\n",
    "Next, we will connect the breadboard. The breadboard needs two connections to the PYNQ board to function, power and ground. The top cable (yellow in the picture) should be connected to pin `AR0` on the PYNQ board. The bottom cable, (gray in the picture) should be connected to pin `GND` on the PYNQ board.\n",
    "\n",
    "\n",
    "<img src=data/led_connection_image.png width=\"1000\">"
   ]
  },
  {
   "cell_type": "markdown",
   "metadata": {},
   "source": [
    "## Controlling the LED\n",
    "### 1. Load the Base Overlay\n",
    "The base overlay sets up the board to the default state. "
   ]
  },
  {
   "cell_type": "code",
   "execution_count": null,
   "metadata": {},
   "outputs": [],
   "source": [
    "from pynq.overlays.base import BaseOverlay\n",
    "base = BaseOverlay(\"base.bit\")"
   ]
  },
  {
   "cell_type": "markdown",
   "metadata": {},
   "source": [
    "### 2. Setup the LED's IO pin\n",
    "The LED will be connected to pin 0 on the arduino header."
   ]
  },
  {
   "cell_type": "code",
   "execution_count": null,
   "metadata": {},
   "outputs": [],
   "source": [
    "from pynq.lib.arduino import arduino_io\n",
    "\n",
    "# Configure the port on the PYNQ-Z2 board\n",
    "# base.iop_arduino_mb_info points to the arduino header\n",
    "# 0 = pin number 0\n",
    "# 'out' is the direction of the pin ('out' for output and 'in for input)\n",
    "led = arduino_io.Arduino_IO(base.iop_arduino.mb_info, 0, 'out')"
   ]
  },
  {
   "cell_type": "markdown",
   "metadata": {},
   "source": [
    "### 3. Turn the LED on and off\n",
    "Basic LED behavior it turning on and off. Let's try it!"
   ]
  },
  {
   "cell_type": "code",
   "execution_count": null,
   "metadata": {},
   "outputs": [],
   "source": [
    "# Turn the LED on\n",
    "led.write(1)"
   ]
  },
  {
   "cell_type": "code",
   "execution_count": null,
   "metadata": {},
   "outputs": [],
   "source": [
    "# Turn the LED off\n",
    "led.write(0)"
   ]
  },
  {
   "cell_type": "markdown",
   "metadata": {},
   "source": [
    "### 4. Blink the LED once\n",
    "The ideal next step from is blinking. Blinking the LED means that we turn it on and off in quick succession. Let's do it!"
   ]
  },
  {
   "cell_type": "code",
   "execution_count": null,
   "metadata": {},
   "outputs": [],
   "source": [
    "from time import sleep\n",
    "\n",
    "# Turn the LED on\n",
    "led.write(1)\n",
    "# Wait for 1 second\n",
    "sleep(1)\n",
    "# Turn the LED off\n",
    "led.write(0)"
   ]
  },
  {
   "cell_type": "markdown",
   "metadata": {},
   "source": [
    "### 5. Blink the LED in a loop\n",
    "Blinking once is pretty boring. Let's do it 5 times.\n",
    "\n",
    "The following loop, `for in in range(5):`, runs the enclosed code `5` times.\n",
    "\n",
    "`led.write(1)` and `led.write(0)` turn the led on and off respectively. \n",
    "\n",
    "`sleep(1)` pauses the program for 1 second."
   ]
  },
  {
   "cell_type": "code",
   "execution_count": null,
   "metadata": {},
   "outputs": [],
   "source": [
    "# Loop 5 times\n",
    "for i in range(5):\n",
    "    led.write(1)\n",
    "    sleep(1)\n",
    "    led.write(0)\n",
    "    sleep(1)"
   ]
  },
  {
   "cell_type": "markdown",
   "metadata": {},
   "source": [
    "1 second isn't the only time period you can blink the LED at. Let's give 0.25 seconds a try.\n",
    "\n",
    "We can change the value passed to `sleep` to change how long we pause for. `sleep(1)` pauses for 1 second, while `sleep(0.25)` pauses for 1/4 of a second."
   ]
  },
  {
   "cell_type": "code",
   "execution_count": null,
   "metadata": {},
   "outputs": [],
   "source": [
    "# Loop 15 times\n",
    "for i in range(15):\n",
    "    led.write(1)\n",
    "    sleep(0.25)\n",
    "    led.write(0)\n",
    "    sleep(0.25)"
   ]
  },
  {
   "cell_type": "markdown",
   "metadata": {},
   "source": [
    "### 6. Blink the LED in a configurable loop\n",
    "One thing we can change is the time the LED is turned on and time the LED is turned off. These two numbers do not have to be the same. Instead of hardcoding these values in the sleep statements, let's set them to variables and use those variables. To start, let's set `time_on` to `0.25` and `time_off` to `0.1`. Try running the cell. You can go into the code and change these values to anything you want to, try running it again with new values!"
   ]
  },
  {
   "cell_type": "code",
   "execution_count": null,
   "metadata": {},
   "outputs": [],
   "source": [
    "time_on = 0.25\n",
    "time_off = 0.1\n",
    "\n",
    "# Loop {blinks} times\n",
    "for i in range(10):\n",
    "    # Turn the LED on\n",
    "    led.write(1)\n",
    "    # Sleep for {time_on} seconds\n",
    "    sleep(time_on)\n",
    "    # Turn the LED off\n",
    "    led.write(0)\n",
    "    # Sleep for {time_off} seconds\n",
    "    sleep(time_off)"
   ]
  },
  {
   "cell_type": "markdown",
   "metadata": {},
   "source": [
    "Another thing we can change is the number of blinks. Before we used the variables `time_on` and `time_off` to abstract the values the LED was on and off. Now we can generalize the amount of time the LED blinks into a variable called `blinks`. Try changing this to any number you want. Be careful, larger numbers will take awhile to run. If you get tired of the LED blinking you can always stop the cell using the stop button."
   ]
  },
  {
   "cell_type": "code",
   "execution_count": null,
   "metadata": {},
   "outputs": [],
   "source": [
    "blinks = 25\n",
    "time_on = 0.25\n",
    "time_off = 0.1\n",
    "\n",
    "# Loop {blinks} times\n",
    "for i in range(blinks):\n",
    "    # Turn the LED on\n",
    "    led.write(1)\n",
    "    # Sleep for {time_on} seconds\n",
    "    sleep(time_on)\n",
    "    # Turn the LED off\n",
    "    led.write(0)\n",
    "    # Sleep for {time_off} seconds\n",
    "    sleep(time_off)"
   ]
  },
  {
   "cell_type": "markdown",
   "metadata": {},
   "source": [
    "## Controlling the LED with Other Peripherals\n",
    "Building on some of what you learned yesterday, we are going to combine the on board switches with the external LED. Before we start, we need to make sure the on board switches are off. Make sure all the switches are in the down position.\n",
    "### 1. Setup the Switches\n",
    "First let's setup the on-board switches so we can read their state. "
   ]
  },
  {
   "cell_type": "code",
   "execution_count": null,
   "metadata": {},
   "outputs": [],
   "source": [
    "switches = base.switches"
   ]
  },
  {
   "cell_type": "markdown",
   "metadata": {},
   "source": [
    "### 2. Check the Status of the Switches\n",
    "Next, let's check is the status of the switches. You can run this cell multiple times to see how the output changes when you move the switches."
   ]
  },
  {
   "cell_type": "code",
   "execution_count": null,
   "metadata": {},
   "outputs": [],
   "source": [
    "print(f'Switch zero {\"is on\" if switches[0].read() else \"is off\"}')\n",
    "print(f'Switch one {\"is on\" if switches[1].read() else \"is off\"}')"
   ]
  },
  {
   "cell_type": "markdown",
   "metadata": {},
   "source": [
    "### 3. Control the Switches\n",
    "Now, lets turn the LED on only if switch zero in on. Run this cell once with switch zero on and once with switch zero off."
   ]
  },
  {
   "cell_type": "code",
   "execution_count": null,
   "metadata": {},
   "outputs": [],
   "source": [
    "# Start with the LED turned off\n",
    "led.write(0)\n",
    "# check if switch 0 is flipped on\n",
    "if switches[0].read() == 1:\n",
    "    # if switch 0 is flipped on, turn on the led\n",
    "    led.write(1)\n",
    "    "
   ]
  },
  {
   "cell_type": "markdown",
   "metadata": {},
   "source": [
    "Let's get a little more complicated. We're going to build a snippet that allows you to blink the LED by moving switch zero.\n",
    "\n",
    "The following code is based upon many of the concepts we have been working with. \n",
    "\n",
    "The first concept is a `while` loop. `while` loops run until the condition they are evaluating returns false. In this case, our `while` loop is just `while True` so it will run forever.\n",
    "\n",
    "The next concept is reading the state of the switch. The function call `switches[0].read()` returns the value of switch 0 (`0` if off and `1` if on). We can use an if statement to only run code if the switch is turned off.\n",
    "\n",
    "Note that this cell will run forever. You'll need to stop the cell manually when you're done. You can do this by clicking the stop button at the top of the window (the black square). This will print some extra output below the cell but don't worry about this. "
   ]
  },
  {
   "cell_type": "code",
   "execution_count": null,
   "metadata": {
    "scrolled": true
   },
   "outputs": [],
   "source": [
    "# Start with the LED turned off\n",
    "led.write(0)\n",
    "# Now loop forever\n",
    "while True:\n",
    "    # If switch 0 is on\n",
    "    if switches[0].read() == 1:\n",
    "        # turn on the led\n",
    "        led.write(1)\n",
    "    # otherwise\n",
    "    else:\n",
    "        # turn off the led\n",
    "        led.write(0)\n",
    "    "
   ]
  },
  {
   "cell_type": "markdown",
   "metadata": {},
   "source": [
    "Alright, let's build one final program. We're going to make use off all of the techniques that we've learned so far.\n",
    "\n",
    "The goal of this program is to blink the led when switch zero is toggled.\n",
    "\n",
    "First, let's learn how to check if a switch is toggled. Like before, stopping this program will require us to stop the cell."
   ]
  },
  {
   "cell_type": "code",
   "execution_count": null,
   "metadata": {},
   "outputs": [],
   "source": [
    "# We need to start by recording the starting state of switch zero\n",
    "previous_state = switches[0].read()\n",
    "# Next, we'll create an infinte loop\n",
    "while True:\n",
    "    # Here's the magic.\n",
    "    # First we are going to check the state of the switch.\n",
    "    # Then we will see if it is the same as the previous state of the switch\n",
    "    current_state = switches[0].read()\n",
    "    #print(previous_state)\n",
    "    #print(current_state)\n",
    "    if current_state != previous_state:\n",
    "        # If the switch state has changed we will need to update the previous state\n",
    "        previous_state = current_state\n",
    "        print('Switch zero was toggled')\n",
    "    # Next we will wait for a second until checking the switch again.\n",
    "    sleep(0.25)\n",
    "    "
   ]
  },
  {
   "cell_type": "markdown",
   "metadata": {},
   "source": [
    "First, let's fix the annoyance of stopping the cell manually. Let's set up this cell such that toggling switch 1 on will start the program and toggling switch 1 off will stop the program."
   ]
  },
  {
   "cell_type": "code",
   "execution_count": null,
   "metadata": {},
   "outputs": [],
   "source": [
    "# We need to start by recording the starting state of switch zero\n",
    "previous_state = switches[0].read()\n",
    "\n",
    "# Check if switch 1 is turned off\n",
    "if switches[1].read() == 0:\n",
    "    print(\"switch 1 in turned off, turn it on to start the program\")\n",
    "    # If so, wait until it's turned on\n",
    "    while switches[1].read() == 0:\n",
    "        pass\n",
    "\n",
    "print(\"Program starting\")\n",
    "\n",
    "# Next, we'll create a loop\n",
    "# This loop only runs as long as switch one is turned on\n",
    "while switches[1].read() == 1:\n",
    "    # Here's the magic.\n",
    "    # First we are going to check the state of the switch.\n",
    "    # Then we will see if it is the same as the previous state of the switch\n",
    "    current_state = switches[0].read()\n",
    "    if current_state != previous_state:\n",
    "        # If the switch state has changed we will need to update the previous state\n",
    "        previous_state = current_state\n",
    "        print('Switch zero was toggled')\n",
    "    # Next we will wait for a 1/4 second until checking the switch again.\n",
    "    sleep(0.25)\n",
    "print('Switch one was toggled off, ending program!')"
   ]
  },
  {
   "cell_type": "markdown",
   "metadata": {},
   "source": [
    "Let's finish the program. We're going to take the program from the previous cell and update it to turn on the LED when switch zero is toggled."
   ]
  },
  {
   "cell_type": "code",
   "execution_count": null,
   "metadata": {},
   "outputs": [],
   "source": [
    "# We need to start by recording the starting state of switch zero\n",
    "previous_state = switches[0].read()\n",
    "\n",
    "# Check if switch 1 is turned off\n",
    "if switches[1].read() == 0:\n",
    "    print(\"switch 1 in turned off, turn it on to start the program\")\n",
    "    # If so, wait until it's turned on\n",
    "    while switches[1].read() == 0:\n",
    "        pass\n",
    "\n",
    "print(\"Program starting\")\n",
    "\n",
    "# Next, we'll create a loop\n",
    "# This loop only runs as long as switch one is turned on\n",
    "while switches[1].read() == 1:\n",
    "    # Here's the magic.\n",
    "    # First we are going to check the state of the switch.\n",
    "    # Then we will see if it is the same as the previous state of the switch\n",
    "    current_state = switches[0].read()\n",
    "    if current_state != previous_state:\n",
    "        # If the switch state has changed we will need to update the previous state\n",
    "        previous_state = current_state\n",
    "        print('Switch zero was toggled, blinking the LED')\n",
    "        # Now let's blink the LED four times\n",
    "        for i in range(4):\n",
    "            led.write(0)\n",
    "            sleep(0.1)\n",
    "            led.write(1)\n",
    "            sleep(0.1)\n",
    "        # Turn off the LED after we are done\n",
    "        led.write(0)\n",
    "    # Next we will wait for a 1/4 second until checking the switch again.\n",
    "    sleep(0.25)\n",
    "print('Switch one was toggled off, ending program!')"
   ]
  },
  {
   "cell_type": "markdown",
   "metadata": {},
   "source": [
    "## Conclusion\n",
    "\n",
    "You're done! You now hopefully have some understanding of how LEDs work and how we can interact with them. Here are some more advanced activities you can give a try.\n",
    "\n",
    "1. Turn the LED on with a button (see base.buttons).\n",
    "2. Turn the turn the LED on when both switches are turned on.\n",
    "3. Turn on the LED when any two buttons are pressed down. "
   ]
  }
 ],
 "metadata": {
  "kernelspec": {
   "display_name": "Python 3",
   "language": "python",
   "name": "python3"
  },
  "language_info": {
   "codemirror_mode": {
    "name": "ipython",
    "version": 3
   },
   "file_extension": ".py",
   "mimetype": "text/x-python",
   "name": "python",
   "nbconvert_exporter": "python",
   "pygments_lexer": "ipython3",
   "version": "3.6.8"
  }
 },
 "nbformat": 4,
 "nbformat_minor": 2
}
