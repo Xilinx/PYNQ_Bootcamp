{
 "cells": [
  {
   "cell_type": "markdown",
   "metadata": {},
   "source": [
    "# LED Bar"
   ]
  },
  {
   "cell_type": "markdown",
   "metadata": {},
   "source": [
    "Building on what we learned with the LEDs we are now going to learn how to use the LED bar."
   ]
  },
  {
   "cell_type": "markdown",
   "metadata": {},
   "source": [
    "## The Grove Connector System"
   ]
  },
  {
   "cell_type": "markdown",
   "metadata": {},
   "source": [
    "While the LED had a simple connection, one pin and ground, more complex peripherals need more connections. The Grove connector system tries to simplify this by creating a standard connector system for these peripherals. "
   ]
  },
  {
   "cell_type": "markdown",
   "metadata": {},
   "source": [
    "Each of your groups should have 1 LED bar and 1 PYNQ Grove Adapter. This will allow you to connect the LED bar along with a bunch of other peripherals."
   ]
  },
  {
   "cell_type": "markdown",
   "metadata": {},
   "source": [
    "## Connecting the LED Bar"
   ]
  },
  {
   "cell_type": "markdown",
   "metadata": {},
   "source": [
    "The LED bar is a lot simplier to connect then the LEDs."
   ]
  },
  {
   "cell_type": "markdown",
   "metadata": {},
   "source": [
    "First the LED bar needs to be connected to the Grove cable."
   ]
  },
  {
   "cell_type": "code",
   "execution_count": null,
   "metadata": {},
   "outputs": [],
   "source": [
    "# picture here"
   ]
  },
  {
   "cell_type": "markdown",
   "metadata": {},
   "source": [
    "Next the Grove cable needs to be connected to the PYNQ Grove Adapter."
   ]
  },
  {
   "cell_type": "code",
   "execution_count": null,
   "metadata": {},
   "outputs": [],
   "source": [
    "# picture here"
   ]
  },
  {
   "cell_type": "markdown",
   "metadata": {},
   "source": [
    "Finally the PYNQ Grove Adapter neesd to be connected the PMOD connector on the PYNQ board."
   ]
  },
  {
   "cell_type": "code",
   "execution_count": null,
   "metadata": {},
   "outputs": [],
   "source": [
    "# picture here"
   ]
  },
  {
   "cell_type": "markdown",
   "metadata": {},
   "source": [
    "## Controlling the LED Bar"
   ]
  },
  {
   "cell_type": "markdown",
   "metadata": {},
   "source": [
    "### 1. Load the Base Overlay"
   ]
  },
  {
   "cell_type": "markdown",
   "metadata": {},
   "source": [
    "As always the Base Overlay needs to be loaded. The base overlay sets up the board to the default state. "
   ]
  },
  {
   "cell_type": "code",
   "execution_count": null,
   "metadata": {},
   "outputs": [],
   "source": [
    "from pynq.overlays.base import BaseOverlay\n",
    "base = BaseOverlay(\"base.bit\")"
   ]
  },
  {
   "cell_type": "markdown",
   "metadata": {},
   "source": [
    "### 2. Tell PYNQ About the LED Bar"
   ]
  },
  {
   "cell_type": "markdown",
   "metadata": {},
   "source": [
    "The LED bar will be connected to connector G1 on the PYNQ Grove adapter. The PYNQ Grove adapter will be connected to PMODA on the PYNQ-Z2 board."
   ]
  },
  {
   "cell_type": "code",
   "execution_count": null,
   "metadata": {},
   "outputs": [],
   "source": [
    "# picture here"
   ]
  },
  {
   "cell_type": "code",
   "execution_count": null,
   "metadata": {},
   "outputs": [],
   "source": [
    "from pynq.lib.pmod import Grove_LEDbar\n",
    "from pynq.lib.pmod import PMOD_GROVE_G1\n",
    "\n",
    "ledbar = Grove_LEDbar(base.PMODA, PMOD_GROVE_G1)"
   ]
  },
  {
   "cell_type": "markdown",
   "metadata": {},
   "source": [
    "### 3. Reset the LED Bar"
   ]
  },
  {
   "cell_type": "markdown",
   "metadata": {},
   "source": [
    "The default state of the LED could be all sorts of thnigs. Let's turn it fully of so we have somewhere to work from."
   ]
  },
  {
   "cell_type": "code",
   "execution_count": null,
   "metadata": {},
   "outputs": [],
   "source": [
    "# Turn the LED bar off\n",
    "ledbar.reset()"
   ]
  },
  {
   "cell_type": "markdown",
   "metadata": {},
   "source": [
    "The LED bar should be blank now."
   ]
  },
  {
   "cell_type": "markdown",
   "metadata": {},
   "source": [
    "### 4. Lighting Up the LED Bar"
   ]
  },
  {
   "cell_type": "markdown",
   "metadata": {},
   "source": [
    "The LED Bar supports a ton of different displays. Let's start with something simple, turning on all the bars."
   ]
  },
  {
   "cell_type": "code",
   "execution_count": null,
   "metadata": {},
   "outputs": [],
   "source": [
    "ledbar.write_binary(0b1111111111)"
   ]
  },
  {
   "cell_type": "markdown",
   "metadata": {},
   "source": [
    "Your LED bar should be all lit up now. How did writing `0b1111111111` to the ledbar turn it on?"
   ]
  },
  {
   "cell_type": "code",
   "execution_count": null,
   "metadata": {},
   "outputs": [],
   "source": [
    "# picture here"
   ]
  },
  {
   "cell_type": "markdown",
   "metadata": {},
   "source": [
    "The LED bar speaks binary. Binary is a alternate number base used in computing. We could get into a much longer discussion about binary, but for now let's just se how the LED bar responds to different inputs. "
   ]
  },
  {
   "cell_type": "markdown",
   "metadata": {},
   "source": [
    "Run the cell below and observe the output!"
   ]
  },
  {
   "cell_type": "code",
   "execution_count": null,
   "metadata": {},
   "outputs": [],
   "source": [
    "from time import sleep\n",
    "ledbar.write_binary(0b0000000000)\n",
    "sleep(0.25)\n",
    "ledbar.write_binary(0b0000000001)\n",
    "sleep(0.25)\n",
    "ledbar.write_binary(0b0000000011)\n",
    "sleep(0.25)\n",
    "ledbar.write_binary(0b0000000111)\n",
    "sleep(0.25)\n",
    "ledbar.write_binary(0b0000001111)\n",
    "sleep(0.25)\n",
    "ledbar.write_binary(0b0000011111)\n",
    "sleep(0.25)\n",
    "ledbar.write_binary(0b0000111111)\n",
    "sleep(0.25)\n",
    "ledbar.write_binary(0b0001111111)\n",
    "sleep(0.25)\n",
    "ledbar.write_binary(0b0011111111)\n",
    "sleep(0.25)\n",
    "ledbar.write_binary(0b0111111111)\n",
    "sleep(0.25)\n",
    "ledbar.write_binary(0b1111111111)"
   ]
  },
  {
   "cell_type": "markdown",
   "metadata": {},
   "source": [
    "Any guesses on how the LED bar interperates the binary numbers?"
   ]
  },
  {
   "cell_type": "markdown",
   "metadata": {},
   "source": [
    "### 5. Light up each element of the LED Bar"
   ]
  },
  {
   "cell_type": "markdown",
   "metadata": {},
   "source": [
    "Last time we blinked the LED over and over. Let's do something similar with the LED bar! Let's light up each element in sequence."
   ]
  },
  {
   "cell_type": "code",
   "execution_count": null,
   "metadata": {},
   "outputs": [],
   "source": [
    "# Loop 5 times\n",
    "for i in range(5):\n",
    "    ledbar.write_binary(0b0000000001)\n",
    "    sleep(0.25)\n",
    "    ledbar.write_binary(0b0000000010)\n",
    "    sleep(0.25)\n",
    "    ledbar.write_binary(0b0000000100)\n",
    "    sleep(0.25)\n",
    "    ledbar.write_binary(0b0000001000)\n",
    "    sleep(0.25)\n",
    "    ledbar.write_binary(0b0000010000)\n",
    "    sleep(0.25)\n",
    "    ledbar.write_binary(0b0000100000)\n",
    "    sleep(0.25)\n",
    "    ledbar.write_binary(0b0001000000)\n",
    "    sleep(0.25)\n",
    "    ledbar.write_binary(0b0010000000)\n",
    "    sleep(0.25)\n",
    "    ledbar.write_binary(0b0100000000)\n",
    "    sleep(0.25)\n",
    "    ledbar.write_binary(0b1000000000)"
   ]
  },
  {
   "cell_type": "markdown",
   "metadata": {},
   "source": [
    "Writing out the entire binary number each time can prove annoying. Let's write a quick python function to make this easier."
   ]
  },
  {
   "cell_type": "markdown",
   "metadata": {},
   "source": [
    "If we want to light up a specific element on the LED bar we use the following algorithm to convert our index to a binary number."
   ]
  },
  {
   "cell_type": "markdown",
   "metadata": {},
   "source": [
    "$binary = 2^{index}$"
   ]
  },
  {
   "cell_type": "markdown",
   "metadata": {},
   "source": [
    "We can implement that in a python function as follows."
   ]
  },
  {
   "cell_type": "code",
   "execution_count": null,
   "metadata": {},
   "outputs": [],
   "source": [
    "def element(index):\n",
    "    # In python the ** operator is exponentiation\n",
    "    return 2**index"
   ]
  },
  {
   "cell_type": "markdown",
   "metadata": {},
   "source": [
    "Let's use it to light up the middle of the LED bar. Try replacing the 5 with different numbers."
   ]
  },
  {
   "cell_type": "markdown",
   "metadata": {},
   "source": [
    "Now let's do our scrolling LED bar from before. This time, notice how much more concisely we can write it."
   ]
  },
  {
   "cell_type": "code",
   "execution_count": null,
   "metadata": {},
   "outputs": [],
   "source": [
    "for i in range(5):\n",
    "    for j in range(10):\n",
    "        ledbar.write_binary(element(j))\n",
    "        sleep(0.25)"
   ]
  },
  {
   "cell_type": "markdown",
   "metadata": {},
   "source": [
    "### 6. Light up part of the LED bar"
   ]
  },
  {
   "cell_type": "markdown",
   "metadata": {},
   "source": [
    "Let's try to light up part of the LED Bar. A display like this would be good for a battery or volume meter. A simple way to do this is to hard code the binary value we want."
   ]
  },
  {
   "cell_type": "code",
   "execution_count": null,
   "metadata": {},
   "outputs": [],
   "source": [
    "# Light up half the LED bar\n",
    "ledbar.write_binary(0b0000011111)"
   ]
  },
  {
   "cell_type": "markdown",
   "metadata": {},
   "source": [
    "This works but, again, this is annoying to enter. Let's use our function technique from before."
   ]
  },
  {
   "cell_type": "markdown",
   "metadata": {},
   "source": [
    "The algorithm for calulating the binary number required to light up part of the LED bar is:"
   ]
  },
  {
   "cell_type": "markdown",
   "metadata": {},
   "source": [
    "$binary = 2^{index+1} - 1$"
   ]
  },
  {
   "cell_type": "markdown",
   "metadata": {},
   "source": [
    "Now let's implement this in a function."
   ]
  },
  {
   "cell_type": "code",
   "execution_count": null,
   "metadata": {},
   "outputs": [],
   "source": [
    "def up_to(index):\n",
    "    return 2**(index+1) - 1"
   ]
  },
  {
   "cell_type": "markdown",
   "metadata": {},
   "source": [
    "Let's test it out!"
   ]
  },
  {
   "cell_type": "code",
   "execution_count": null,
   "metadata": {},
   "outputs": [],
   "source": [
    "ledbar.write_binary(up_to(5))"
   ]
  },
  {
   "cell_type": "markdown",
   "metadata": {},
   "source": [
    "Now that we have a easy way to do this, let's try our loop method from before."
   ]
  },
  {
   "cell_type": "code",
   "execution_count": null,
   "metadata": {},
   "outputs": [],
   "source": [
    "for i in range(5):\n",
    "    for j in range(10):\n",
    "        ledbar.write_binary(up_to(j))\n",
    "        sleep(0.1)"
   ]
  },
  {
   "cell_type": "markdown",
   "metadata": {},
   "source": [
    "This is great, but only works if we want to light up the LED bar from one end. What happens if we want to do the other direction?"
   ]
  },
  {
   "cell_type": "markdown",
   "metadata": {},
   "source": [
    "Luckily, Python has an inverse operator we can use. Check out the following cell!"
   ]
  },
  {
   "cell_type": "code",
   "execution_count": null,
   "metadata": {},
   "outputs": [],
   "source": [
    "ledbar.write_binary(~up_to(5))"
   ]
  },
  {
   "cell_type": "markdown",
   "metadata": {},
   "source": [
    "By putting the `~` character in front, we can covert a number like `0b0000111111` into `0b1111000000`."
   ]
  },
  {
   "cell_type": "markdown",
   "metadata": {},
   "source": [
    "Question: What would happen if we applied the `~` operator to the `element` function we wrote before?"
   ]
  },
  {
   "cell_type": "markdown",
   "metadata": {},
   "source": [
    "Talk about this in your groups, and when you have a guess give the next cell a try!"
   ]
  },
  {
   "cell_type": "code",
   "execution_count": null,
   "metadata": {},
   "outputs": [],
   "source": [
    "ledbar.write_binary(~element(5))"
   ]
  },
  {
   "cell_type": "markdown",
   "metadata": {},
   "source": [
    "Cool?"
   ]
  },
  {
   "cell_type": "markdown",
   "metadata": {},
   "source": [
    "## Controlling the LED Bar with Other Peripherals"
   ]
  },
  {
   "cell_type": "markdown",
   "metadata": {},
   "source": [
    "Similar to before, we are going to combine the on board buttons with the external LED Bar."
   ]
  },
  {
   "cell_type": "markdown",
   "metadata": {},
   "source": [
    "### 1. Setup the Buttons"
   ]
  },
  {
   "cell_type": "markdown",
   "metadata": {},
   "source": [
    "First let's setup the onboard switches so we can read their state. "
   ]
  },
  {
   "cell_type": "code",
   "execution_count": null,
   "metadata": {},
   "outputs": [],
   "source": [
    "buttons = base.buttons"
   ]
  },
  {
   "cell_type": "markdown",
   "metadata": {},
   "source": [
    "### 2. Check the Status of the Buttons"
   ]
  },
  {
   "cell_type": "markdown",
   "metadata": {},
   "source": [
    "Next, let's check is the status of the buttons. You can run this cell multiple times to see how the output changes whe you hold the buttons."
   ]
  },
  {
   "cell_type": "code",
   "execution_count": null,
   "metadata": {},
   "outputs": [],
   "source": [
    "print(f'Button 0 {\"is on\" if buttons[0].read() else \"is off\"}')\n",
    "print(f'Button 1 {\"is on\" if buttons[1].read() else \"is off\"}')\n",
    "print(f'Button 2 {\"is on\" if buttons[2].read() else \"is off\"}')\n",
    "print(f'Button 3 {\"is on\" if buttons[3].read() else \"is off\"}')"
   ]
  },
  {
   "cell_type": "markdown",
   "metadata": {},
   "source": [
    "### 3. Control the LED Bar with the Buttons"
   ]
  },
  {
   "cell_type": "markdown",
   "metadata": {},
   "source": [
    "Now, let's bulid a program to cycle the LED bar every time button 0 is pressed!"
   ]
  },
  {
   "cell_type": "markdown",
   "metadata": {},
   "source": [
    "First, we need to to be able to wait for a button to be pressed. Run the cell below and then press button 0."
   ]
  },
  {
   "cell_type": "code",
   "execution_count": null,
   "metadata": {},
   "outputs": [],
   "source": [
    "while buttons[0].read() == 0:\n",
    "    pass\n",
    "print('Button 0 was pressed')"
   ]
  },
  {
   "cell_type": "markdown",
   "metadata": {},
   "source": [
    "Now that we have that down, let's bring back some of the LED Bar scrolling code from before."
   ]
  },
  {
   "cell_type": "code",
   "execution_count": null,
   "metadata": {
    "scrolled": true
   },
   "outputs": [],
   "source": [
    "for i in range(10):\n",
    "    ledbar.write_binary(element(i))\n",
    "    sleep(0.25)"
   ]
  },
  {
   "cell_type": "markdown",
   "metadata": {},
   "source": [
    "Now we need to combine the two previous cells to create our program. I'll leave you an empty cell below to try it yourself. If you get stuck, run the next cell for a hint!"
   ]
  },
  {
   "cell_type": "code",
   "execution_count": null,
   "metadata": {},
   "outputs": [],
   "source": [
    "for i in range(10):\n",
    "    ledbar.write_binary(element(i))\n",
    "    while buttons[0].read() == 0:\n",
    "        pass"
   ]
  },
  {
   "cell_type": "markdown",
   "metadata": {},
   "source": [
    "Woah, that probably didn't do what you expected. Why did the element jump so much?"
   ]
  },
  {
   "cell_type": "markdown",
   "metadata": {},
   "source": [
    "This in cause by the python code running too quickly. Before you are able to let go of the button, the for loop has already iterated 5 or more times. We can fix this by adding a sleep statement to add some delay to account for our slow reflexes!"
   ]
  },
  {
   "cell_type": "markdown",
   "metadata": {},
   "source": [
    "Run the next cell and try pressing the button a few times. Try holding the button too!"
   ]
  },
  {
   "cell_type": "code",
   "execution_count": null,
   "metadata": {},
   "outputs": [],
   "source": [
    "for i in range(10):\n",
    "    ledbar.write_binary(element(i))\n",
    "    while buttons[0].read() == 0:\n",
    "        pass\n",
    "    sleep(0.25)"
   ]
  },
  {
   "cell_type": "markdown",
   "metadata": {},
   "source": [
    "## Conclusion"
   ]
  },
  {
   "cell_type": "markdown",
   "metadata": {},
   "source": [
    "You're done! You now hopefully have some understading of how the LED bar works and how we can interact with it. Here are some more advanced activites you can give a try."
   ]
  },
  {
   "cell_type": "markdown",
   "metadata": {},
   "source": [
    "1. Flash alternating sets of lights (try using a function to make this easier).\n",
    "2. Count how many times a button is pressed and display it on the LED bar.\n",
    "3. Display which built in buttons and switches are being pressed (if button 0 is pressed -> led bar element 0 is lit, etc)"
   ]
  }
 ],
 "metadata": {
  "kernelspec": {
   "display_name": "Python 3",
   "language": "python",
   "name": "python3"
  },
  "language_info": {
   "codemirror_mode": {
    "name": "ipython",
    "version": 3
   },
   "file_extension": ".py",
   "mimetype": "text/x-python",
   "name": "python",
   "nbconvert_exporter": "python",
   "pygments_lexer": "ipython3",
   "version": "3.6.5"
  }
 },
 "nbformat": 4,
 "nbformat_minor": 2
}
