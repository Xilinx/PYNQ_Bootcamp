{
 "cells": [
  {
   "cell_type": "markdown",
   "metadata": {},
   "source": [
    "# Sensors and Board to Board Communication\n",
    "\n",
    "This session will cover reading data from the Grove TH02 Temperature and Humidity Sensor as well as transmitting data from one board to another over the internet."
   ]
  },
  {
   "cell_type": "markdown",
   "metadata": {},
   "source": [
    "## Part 1: Setup"
   ]
  },
  {
   "cell_type": "markdown",
   "metadata": {},
   "source": [
    "### 1.1 Initialize Overlay\n",
    "Our PYNQ Board has a Field Programmable Gate Array (FPGA) on it that must be programmed before we begin using the board. We apply designs called overlays that we can design however we want. For the first part of this tutorial, we are going to use the pre-built base overlay."
   ]
  },
  {
   "cell_type": "code",
   "execution_count": 1,
   "metadata": {},
   "outputs": [
    {
     "data": {
      "application/javascript": [
       "\n",
       "require(['notebook/js/codecell'], function(codecell) {\n",
       "  codecell.CodeCell.options_default.highlight_modes[\n",
       "      'magic_text/x-csrc'] = {'reg':[/^%%microblaze/]};\n",
       "  Jupyter.notebook.events.one('kernel_ready.Kernel', function(){\n",
       "      Jupyter.notebook.get_cells().map(function(cell){\n",
       "          if (cell.cell_type == 'code'){ cell.auto_highlight(); } }) ;\n",
       "  });\n",
       "});\n"
      ]
     },
     "metadata": {},
     "output_type": "display_data"
    }
   ],
   "source": [
    "from pynq.overlays.base import BaseOverlay\n",
    "base = BaseOverlay(\"base.bit\")"
   ]
  },
  {
   "cell_type": "markdown",
   "metadata": {},
   "source": [
    "### 1.2 Import Libraries\n",
    "Here we tell the board what libraries we want to use in our project."
   ]
  },
  {
   "cell_type": "code",
   "execution_count": 18,
   "metadata": {},
   "outputs": [
    {
     "name": "stdout",
     "output_type": "stream",
     "text": [
      "Requirement already satisfied: getmac in /usr/local/lib/python3.6/dist-packages\n",
      "Processing ./pynq-p2p\n",
      "  Requirement already satisfied (use --upgrade to upgrade): pynqp2p==0.0.1 from file:///home/xilinx/jupyter_notebooks/PYNQ_Bootcamp/Networking/pynq-p2p in /usr/local/lib/python3.6/dist-packages\n",
      "Building wheels for collected packages: pynqp2p\n",
      "  Running setup.py bdist_wheel for pynqp2p ... \u001b[?25ldone\n",
      "\u001b[?25h  Stored in directory: /root/.cache/pip/wheels/5e/4d/06/4407a9ff4fd5ba7a628f50eb91cfe70517cbfc08a9da8e55f1\n",
      "Successfully built pynqp2p\n"
     ]
    }
   ],
   "source": [
    "!pip3 install getmac\n",
    "!pip3 install ./pynq-p2p\n",
    "from importlib import reload\n",
    "import pynqp2p\n",
    "reload(pynqp2p)\n",
    "import requests\n",
    "import getmac\n",
    "from pynq.lib.pmod import Grove_TH02\n",
    "from pynq.lib.pmod import PMOD_GROVE_G4"
   ]
  },
  {
   "cell_type": "markdown",
   "metadata": {},
   "source": [
    "## Part 2: Temperature an Humidity"
   ]
  },
  {
   "cell_type": "markdown",
   "metadata": {},
   "source": [
    "### 2.1 Plugging in your TH02 Sensor\n",
    "\n",
    "Plug your PMOD to Grove adaptor (shown in picture below) into one of your PMOD connectors on your PYNQ board. Then plug you TH02 humidity sensor into the one of the four white Grove adaptor ports\n",
    "\n",
    "![grove_adaptor](data/grove.jpg)"
   ]
  },
  {
   "cell_type": "markdown",
   "metadata": {},
   "source": [
    "### 2.2 Initialize the Temperature Sensor\n",
    "\n",
    "We create an object called \"temp\" that represents the sensor. From this object we can call functions that retrieve data from the sensor."
   ]
  },
  {
   "cell_type": "code",
   "execution_count": 30,
   "metadata": {},
   "outputs": [],
   "source": [
    "tmp = Grove_TH02(base.PMODB,PMOD_GROVE_G4)"
   ]
  },
  {
   "cell_type": "markdown",
   "metadata": {},
   "source": [
    "### 2.3 Read the Temperature and Humidity\n",
    "Calling the function read() returns a tuple (two values separated by a comma). The first value is temperature and the second value is humidity."
   ]
  },
  {
   "cell_type": "code",
   "execution_count": 31,
   "metadata": {},
   "outputs": [
    {
     "name": "stdout",
     "output_type": "stream",
     "text": [
      "The temperature is -50.0 degrees celsius and the relative humidity is -24.0 %\n"
     ]
    }
   ],
   "source": [
    "temp_c, humidity = tmp.read()\n",
    "print('The temperature is {} degrees celsius and the relative humidity is {} %'.format(temp_c, humidity))"
   ]
  },
  {
   "cell_type": "markdown",
   "metadata": {},
   "source": [
    "### 2.4 Convert to Fahrenheit\n",
    "\n",
    "Converting to Fahrenheit is done by the following equation: \n",
    "\n",
    "fahrenheit = celsius * (9/5) + 32"
   ]
  },
  {
   "cell_type": "code",
   "execution_count": 32,
   "metadata": {},
   "outputs": [
    {
     "name": "stdout",
     "output_type": "stream",
     "text": [
      "-58.0\n"
     ]
    }
   ],
   "source": [
    "temp_f = temp_c * (9/5) + 32\n",
    "print(temp_f)"
   ]
  },
  {
   "cell_type": "markdown",
   "metadata": {},
   "source": [
    "## Part 3: Board to Board Communication\n",
    "\n",
    "In many situations, sensors will need to be a distance away from where the data is needed. For instance, you may want to know the temperature at different locations around a city and be able to monitor this from one central location. To do this, we can send data over the internet. You can also send many types of data beyond this sensor such as text."
   ]
  },
  {
   "cell_type": "markdown",
   "metadata": {},
   "source": [
    "### 3.1 Register with the central server\n",
    "In order to ensure not just anyone can access our data, we use a secret passcode to verify our identity and register with the server that will store our data."
   ]
  },
  {
   "cell_type": "code",
   "execution_count": 34,
   "metadata": {},
   "outputs": [],
   "source": [
    "ip_address = '[IP address of the server goes here]'\n",
    "key = '[secret passcode goes here]'\n",
    "pynqp2p.register(ip_address, key)"
   ]
  },
  {
   "cell_type": "markdown",
   "metadata": {},
   "source": [
    "### 3.2 Make sure we are able to communicate with the server\n",
    "The function ping() simply sends a message to our server and the server sends a message back saying it heard us."
   ]
  },
  {
   "cell_type": "code",
   "execution_count": 21,
   "metadata": {},
   "outputs": [
    {
     "data": {
      "text/plain": [
       "'Hello 00:05:6b:00:e1:f6!'"
      ]
     },
     "execution_count": 21,
     "metadata": {},
     "output_type": "execute_result"
    }
   ],
   "source": [
    "pynqp2p.ping()"
   ]
  },
  {
   "cell_type": "markdown",
   "metadata": {},
   "source": [
    "### 3.3 Get a unique ID from your Board\n",
    "Your board has a unique ID number called a MAC address. The function get_id() returns a unique number based on this MAC address that you can share with people you want to be able to send you messages. Make sure that the way you share this is secure (such as email) so that you don't have people spamming you with unwanted information."
   ]
  },
  {
   "cell_type": "code",
   "execution_count": 22,
   "metadata": {},
   "outputs": [],
   "source": [
    "myid = pynqp2p.get_id()"
   ]
  },
  {
   "cell_type": "markdown",
   "metadata": {},
   "source": [
    "### 3.4 Send a message to a board with a particular ID\n",
    "The function send() sends a message to the board with the particular ID number you pass it."
   ]
  },
  {
   "cell_type": "code",
   "execution_count": 33,
   "metadata": {},
   "outputs": [
    {
     "data": {
      "text/plain": [
       "'Message sent to put your teammates ID here!'"
      ]
     },
     "execution_count": 33,
     "metadata": {},
     "output_type": "execute_result"
    }
   ],
   "source": [
    "recipient_id = 'put your teammates ID here'\n",
    "pynqp2p.send(recipient_id, \"Hello!\")"
   ]
  },
  {
   "cell_type": "markdown",
   "metadata": {},
   "source": [
    "### 3.5 Receive Messages\n",
    "The function receive() asks the server to give you the most recent message sent to you. Afterwards, it deletes the message (which means you can only receive it once). The function receive_all() retrieves all the messages in the server at once and returns them as a list."
   ]
  },
  {
   "cell_type": "code",
   "execution_count": 28,
   "metadata": {},
   "outputs": [
    {
     "data": {
      "text/plain": [
       "'No messages available'"
      ]
     },
     "execution_count": 28,
     "metadata": {},
     "output_type": "execute_result"
    }
   ],
   "source": [
    "pynqp2p.receive()"
   ]
  },
  {
   "cell_type": "code",
   "execution_count": 27,
   "metadata": {},
   "outputs": [
    {
     "data": {
      "text/plain": [
       "[]"
      ]
     },
     "execution_count": 27,
     "metadata": {},
     "output_type": "execute_result"
    }
   ],
   "source": [
    "pynqp2p.receive_all()"
   ]
  }
 ],
 "metadata": {
  "kernelspec": {
   "display_name": "Python 3",
   "language": "python",
   "name": "python3"
  },
  "language_info": {
   "codemirror_mode": {
    "name": "ipython",
    "version": 3
   },
   "file_extension": ".py",
   "mimetype": "text/x-python",
   "name": "python",
   "nbconvert_exporter": "python",
   "pygments_lexer": "ipython3",
   "version": "3.6.5"
  }
 },
 "nbformat": 4,
 "nbformat_minor": 2
}
