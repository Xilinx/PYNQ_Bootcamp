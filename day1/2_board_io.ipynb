{
 "cells": [
  {
   "cell_type": "markdown",
   "metadata": {},
   "source": [
    "# Interacting with the PYNQ Board\n",
    "\n",
    "Before lunch, you started to get familiar with the Jupyter Notebook interface, writing Markdown, and running Python code. Nothing so far has been specific to the PYNQ board. This all could have easily been run on your laptop instead. Now, we'll start looking at the PYNQ board specifically — including playing with the on-board buttons, switches, and LED lights.\n",
    "\n",
    "Before we start interacting with the physical world, let's try and convince ourselves that the code we write is indeed running on the PYNQ board.\n",
    "\n",
    "## Contents\n",
    "\n",
    "* [Getting PYNQ system information](#Getting-PYNQ-system-information)\n",
    "* [LEDs, switches and buttons](#LEDs-switches-and-buttons)\n",
    "* [Controlling an LED](#Controlling-an-LED)\n",
    "* [Reading from switches and buttons](#Reading-from-switches-and-buttons)\n",
    "* [Reacting to button presses](#Reacting-to-button-presses)\n",
    "* [Summary](#Summary)\n",
    "\n",
    "\n",
    "## Getting PYNQ system information\n",
    "\n",
    "First of all, let's get the \"hostname\" of the device this code is running on. There is a system command (i.e. not a Python command) called `hostname` that does just this. Any command we type after a `!` will be executed as a system command. Try it below:"
   ]
  },
  {
   "cell_type": "code",
   "execution_count": 1,
   "metadata": {},
   "outputs": [
    {
     "name": "stdout",
     "output_type": "stream",
     "text": [
      "pynq\r\n"
     ]
    }
   ],
   "source": [
    "!hostname"
   ]
  },
  {
   "cell_type": "markdown",
   "metadata": {},
   "source": [
    "The fact that the host name is \"pynq\" should start to convince you that this code is running on the board, and not your laptop!\n",
    "\n",
    "Note that we can use the `!` symbol to run *any* Linux command we want. For example, we'll use this in some of the sessions tomorrow to install extra software."
   ]
  },
  {
   "cell_type": "markdown",
   "metadata": {},
   "source": [
    "Now that we've seen that the commands we write are indeed run on the PYNQ board, let's use the board to interact with something physical!"
   ]
  },
  {
   "cell_type": "markdown",
   "metadata": {},
   "source": [
    "## LEDs, switches and buttons\n",
    "\n",
    "The PYNQ board some on-board controls, including:\n",
    "\n",
    "  * Four green LEDs (called `LD0` to `LD3`)\n",
    "  \n",
    "  * Two multi-color LEDs (`LD4` and `LD5`)\n",
    "  \n",
    "  * Two slide-switches (`SW0` and `SW1`) and...\n",
    "  \n",
    "  * Four push-buttons (`BTN0` to `BTN3`)\n",
    "  \n",
    "Have a look at the board and try to identify each of these elements."
   ]
  },
  {
   "cell_type": "markdown",
   "metadata": {},
   "source": [
    "Note that there are additional push-buttons and LEDs on the board, but these are used for specific functions (Power LED, a reset button, etc.) and are not user accessible.\n",
    "\n",
    "These inputs and outputs can be controlled directly from Python. To demonstrate this, we first need get a Python representation of the board — let's call it `board`."
   ]
  },
  {
   "cell_type": "code",
   "execution_count": 4,
   "metadata": {},
   "outputs": [
    {
     "data": {
      "application/javascript": [
       "\n",
       "require(['notebook/js/codecell'], function(codecell) {\n",
       "  codecell.CodeCell.options_default.highlight_modes[\n",
       "      'magic_text/x-csrc'] = {'reg':[/^%%microblaze/]};\n",
       "  Jupyter.notebook.events.one('kernel_ready.Kernel', function(){\n",
       "      Jupyter.notebook.get_cells().map(function(cell){\n",
       "          if (cell.cell_type == 'code'){ cell.auto_highlight(); } }) ;\n",
       "  });\n",
       "});\n"
      ]
     },
     "metadata": {},
     "output_type": "display_data"
    }
   ],
   "source": [
    "from pynq.overlays.base import BaseOverlay\n",
    "\n",
    "board = BaseOverlay(\"base.bit\")"
   ]
  },
  {
   "cell_type": "markdown",
   "metadata": {},
   "source": [
    "This `board` value has lots of different properties associated with it. The names for the buttons, switches, and LEDs are shown below:\n",
    "\n",
    "![](./data/z2_peripherals.svg)\n",
    "\n",
    "For example, if we wanted to do something with the rightmost LED, we would access it via `board.leds[0]`. Let's dive in to how to use each of these controls."
   ]
  },
  {
   "cell_type": "markdown",
   "metadata": {},
   "source": [
    "## Controlling an LED\n",
    "\n",
    "Now that we have this `board` reference, we can start manipulating the LEDs. There are 3 main things we can do with each LED:\n",
    "\n",
    "  1. Turn it on, using `.on()`\n",
    "  2. Turn it off, using `.off()`\n",
    "  3. \"Toggle\" it between off and on, using `.toggle()`\n",
    "\n",
    "Let’s start by turning a single LED on and off."
   ]
  },
  {
   "cell_type": "code",
   "execution_count": 5,
   "metadata": {},
   "outputs": [],
   "source": [
    "led0 = board.leds[0]"
   ]
  },
  {
   "cell_type": "code",
   "execution_count": 6,
   "metadata": {},
   "outputs": [],
   "source": [
    "led0.on()"
   ]
  },
  {
   "cell_type": "markdown",
   "metadata": {},
   "source": [
    "Check the board and confirm the LED is on."
   ]
  },
  {
   "cell_type": "code",
   "execution_count": 7,
   "metadata": {},
   "outputs": [],
   "source": [
    "led0.off()"
   ]
  },
  {
   "cell_type": "markdown",
   "metadata": {},
   "source": [
    "We'll now work our way up to flashing the LED on and off automatically. First of all, let's take a look at using loops in Python.\n",
    "\n",
    "We can use a `for` loop to iterate over all of the elements in a list."
   ]
  },
  {
   "cell_type": "code",
   "execution_count": 2,
   "metadata": {},
   "outputs": [
    {
     "name": "stdout",
     "output_type": "stream",
     "text": [
      "0\n",
      "1\n",
      "2\n",
      "3\n"
     ]
    }
   ],
   "source": [
    "for number in [0, 1, 2, 3]:\n",
    "    print(number)"
   ]
  },
  {
   "cell_type": "markdown",
   "metadata": {},
   "source": [
    "Sometimes we would like to iterate through many numbers, and typing all of these out would be a big waste of time! Instead of supplying the list directly, let's use `range(...)` to make a list for us.\n",
    "\n",
    "We tell `range(...)` how many numbers to give us and it will make a list by starting from 0 and counting up by 1 each time. For example, `range(4)` would give us 4 numbers starting from zero (`[0, 1, 2, 3]`).\n",
    "\n",
    "Let's try it out."
   ]
  },
  {
   "cell_type": "code",
   "execution_count": 5,
   "metadata": {},
   "outputs": [
    {
     "name": "stdout",
     "output_type": "stream",
     "text": [
      "0\n",
      "1\n",
      "2\n",
      "3\n"
     ]
    }
   ],
   "source": [
    "for number in range(4):\n",
    "    print(number)"
   ]
  },
  {
   "cell_type": "markdown",
   "metadata": {},
   "source": [
    "Let’s now toggle `led0` on and off automatically. We can use the `sleep()` method from the `time` package to introduce a delay. This should let us control how quickly the LED flashes.\n",
    "\n",
    "For example, let's try toggling the LED 20 times using a `for` loop. We'll wait for 0.1 seconds each time before toggling the LED."
   ]
  },
  {
   "cell_type": "code",
   "execution_count": 8,
   "metadata": {},
   "outputs": [],
   "source": [
    "import time\n",
    "\n",
    "for number in range(20):\n",
    "    led0.toggle()\n",
    "    time.sleep(.1)"
   ]
  },
  {
   "cell_type": "markdown",
   "metadata": {},
   "source": [
    " Note that we can only run one cell at a time, so be sure to wait until the loop finishes before continuing."
   ]
  },
  {
   "cell_type": "markdown",
   "metadata": {},
   "source": [
    "## Reading from switches and buttons\n",
    "\n",
    "Next, we can start interacting with the LEDs using the switches and buttons. We can use `.read()` to get the value of a button or switch.\n",
    "\n",
    "First, let's make sure that all of the LEDs off. Instead of writing 4 lines (one for each LED), let's use a `for` loop to turn off all the LEDs."
   ]
  },
  {
   "cell_type": "code",
   "execution_count": 9,
   "metadata": {},
   "outputs": [],
   "source": [
    "for led_num in range(board.leds.length):\n",
    "    board.leds[led_num].off()"
   ]
  },
  {
   "cell_type": "markdown",
   "metadata": {},
   "source": [
    "Now let's read each button, and if the button is pressed down, the corresponding LED should be toggled. You can execute this cell a few times while pressing different buttons. Note that you'll need to hold these buttons down before clicking \"Run\"."
   ]
  },
  {
   "cell_type": "code",
   "execution_count": 10,
   "metadata": {},
   "outputs": [],
   "source": [
    "for led_num in range(board.buttons.length):\n",
    "    if board.buttons[led_num].read():\n",
    "        board.leds[led_num].toggle()"
   ]
  },
  {
   "cell_type": "markdown",
   "metadata": {},
   "source": [
    "Finally, let's use the switches to control the two multi-color LEDs.\n",
    "\n",
    "Remember that these LEDs are numbers 4 and 5 (we must skip the 0, 1, 2, and 3). We will turn on each LED when the corresponding switch is \"on\". Because these are multi-color LEDs, we also need to tell it what color to use. Try changing the `color` number to different values between 1 and 7. "
   ]
  },
  {
   "cell_type": "code",
   "execution_count": 11,
   "metadata": {},
   "outputs": [],
   "source": [
    "color = 1 # Try changing this!\n",
    "\n",
    "for switch_num in range(board.switches.length):\n",
    "    led_num = switch_num + 4\n",
    "    \n",
    "    if board.switches[switch_num].read():\n",
    "        board.rgbleds[led_num].on(color)\n",
    "    else:\n",
    "        board.rgbleds[led_num].off()"
   ]
  },
  {
   "cell_type": "markdown",
   "metadata": {},
   "source": [
    "## Reacting to button presses\n",
    "\n",
    "So far we have only read from the buttons once when we execute a cell. Because of this, you've probably been looking pretty silly trying to hold down buttons while also managing to click `Run`!\n",
    "\n",
    "This is a little awkward, so what can we do about it? Let's start looking at how to dynamically react to button presses as soon as they happen. We'll start off with a simple technique called \"polling\" to help us check for button presses.\n",
    "\n",
    "Previously, we used `.read()` to get immediate feedback from the button — either a 0 or a 1. To react to a button press, we'll use `.wait_for_value(...)`. This essentially says: stop what you're doing and *wait* until the button is pressed or released, depending on the number we supply. Let's see this in action by waiting for `BTN0` to be pressed, printing a message, and then waiting for `BTN0` to be released."
   ]
  },
  {
   "cell_type": "code",
   "execution_count": 12,
   "metadata": {},
   "outputs": [
    {
     "name": "stdout",
     "output_type": "stream",
     "text": [
      "Waiting for BTN0 to be pressed...\n",
      "BTN0 has been pressed  😄\n",
      "BTN0 has been released 😔\n"
     ]
    }
   ],
   "source": [
    "btn0 = board.buttons[0]\n",
    "\n",
    "print('Waiting for BTN0 to be pressed...')\n",
    "\n",
    "btn0.wait_for_value(1)\n",
    "print('BTN0 has been pressed  😄')\n",
    "\n",
    "btn0.wait_for_value(0)\n",
    "print('BTN0 has been released 😔')"
   ]
  },
  {
   "cell_type": "markdown",
   "metadata": {},
   "source": [
    "We can put this code in a loop if we wanted to keep checking for more button presses. Let's try making this run forever, using the condition `while True`."
   ]
  },
  {
   "cell_type": "code",
   "execution_count": 13,
   "metadata": {},
   "outputs": [
    {
     "name": "stdout",
     "output_type": "stream",
     "text": [
      "BTN0 has been pressed  😄\n",
      "BTN0 has been released 😔\n",
      "BTN0 has been pressed  😄\n",
      "BTN0 has been released 😔\n"
     ]
    },
    {
     "ename": "KeyboardInterrupt",
     "evalue": "",
     "output_type": "error",
     "traceback": [
      "\u001b[0;31m---------------------------------------------------------------------------\u001b[0m",
      "\u001b[0;31mKeyboardInterrupt\u001b[0m                         Traceback (most recent call last)",
      "\u001b[0;32m<ipython-input-13-e7d50732594c>\u001b[0m in \u001b[0;36m<module>\u001b[0;34m()\u001b[0m\n\u001b[1;32m      1\u001b[0m \u001b[0;32mwhile\u001b[0m \u001b[0;32mTrue\u001b[0m\u001b[0;34m:\u001b[0m\u001b[0;34m\u001b[0m\u001b[0m\n\u001b[0;32m----> 2\u001b[0;31m     \u001b[0mbtn0\u001b[0m\u001b[0;34m.\u001b[0m\u001b[0mwait_for_value\u001b[0m\u001b[0;34m(\u001b[0m\u001b[0;36m1\u001b[0m\u001b[0;34m)\u001b[0m\u001b[0;34m\u001b[0m\u001b[0m\n\u001b[0m\u001b[1;32m      3\u001b[0m     \u001b[0mprint\u001b[0m\u001b[0;34m(\u001b[0m\u001b[0;34m'BTN0 has been pressed  😄'\u001b[0m\u001b[0;34m)\u001b[0m\u001b[0;34m\u001b[0m\u001b[0m\n\u001b[1;32m      4\u001b[0m \u001b[0;34m\u001b[0m\u001b[0m\n\u001b[1;32m      5\u001b[0m     \u001b[0mbtn0\u001b[0m\u001b[0;34m.\u001b[0m\u001b[0mwait_for_value\u001b[0m\u001b[0;34m(\u001b[0m\u001b[0;36m0\u001b[0m\u001b[0;34m)\u001b[0m\u001b[0;34m\u001b[0m\u001b[0m\n",
      "\u001b[0;32m/usr/local/lib/python3.6/dist-packages/pynq/lib/axigpio.py\u001b[0m in \u001b[0;36mwait_for_value\u001b[0;34m(self, value)\u001b[0m\n\u001b[1;32m     98\u001b[0m             \u001b[0mloop\u001b[0m \u001b[0;34m=\u001b[0m \u001b[0masyncio\u001b[0m\u001b[0;34m.\u001b[0m\u001b[0mget_event_loop\u001b[0m\u001b[0;34m(\u001b[0m\u001b[0;34m)\u001b[0m\u001b[0;34m\u001b[0m\u001b[0m\n\u001b[1;32m     99\u001b[0m             loop.run_until_complete(asyncio.ensure_future(\n\u001b[0;32m--> 100\u001b[0;31m                 \u001b[0mself\u001b[0m\u001b[0;34m.\u001b[0m\u001b[0mwait_for_value_async\u001b[0m\u001b[0;34m(\u001b[0m\u001b[0mvalue\u001b[0m\u001b[0;34m)\u001b[0m\u001b[0;34m\u001b[0m\u001b[0m\n\u001b[0m\u001b[1;32m    101\u001b[0m             ))\n\u001b[1;32m    102\u001b[0m \u001b[0;34m\u001b[0m\u001b[0m\n",
      "\u001b[0;32m/usr/lib/python3.6/asyncio/base_events.py\u001b[0m in \u001b[0;36mrun_until_complete\u001b[0;34m(self, future)\u001b[0m\n\u001b[1;32m    453\u001b[0m         \u001b[0mfuture\u001b[0m\u001b[0;34m.\u001b[0m\u001b[0madd_done_callback\u001b[0m\u001b[0;34m(\u001b[0m\u001b[0m_run_until_complete_cb\u001b[0m\u001b[0;34m)\u001b[0m\u001b[0;34m\u001b[0m\u001b[0m\n\u001b[1;32m    454\u001b[0m         \u001b[0;32mtry\u001b[0m\u001b[0;34m:\u001b[0m\u001b[0;34m\u001b[0m\u001b[0m\n\u001b[0;32m--> 455\u001b[0;31m             \u001b[0mself\u001b[0m\u001b[0;34m.\u001b[0m\u001b[0mrun_forever\u001b[0m\u001b[0;34m(\u001b[0m\u001b[0;34m)\u001b[0m\u001b[0;34m\u001b[0m\u001b[0m\n\u001b[0m\u001b[1;32m    456\u001b[0m         \u001b[0;32mexcept\u001b[0m\u001b[0;34m:\u001b[0m\u001b[0;34m\u001b[0m\u001b[0m\n\u001b[1;32m    457\u001b[0m             \u001b[0;32mif\u001b[0m \u001b[0mnew_task\u001b[0m \u001b[0;32mand\u001b[0m \u001b[0mfuture\u001b[0m\u001b[0;34m.\u001b[0m\u001b[0mdone\u001b[0m\u001b[0;34m(\u001b[0m\u001b[0;34m)\u001b[0m \u001b[0;32mand\u001b[0m \u001b[0;32mnot\u001b[0m \u001b[0mfuture\u001b[0m\u001b[0;34m.\u001b[0m\u001b[0mcancelled\u001b[0m\u001b[0;34m(\u001b[0m\u001b[0;34m)\u001b[0m\u001b[0;34m:\u001b[0m\u001b[0;34m\u001b[0m\u001b[0m\n",
      "\u001b[0;32m/usr/lib/python3.6/asyncio/base_events.py\u001b[0m in \u001b[0;36mrun_forever\u001b[0;34m(self)\u001b[0m\n\u001b[1;32m    420\u001b[0m             \u001b[0mevents\u001b[0m\u001b[0;34m.\u001b[0m\u001b[0m_set_running_loop\u001b[0m\u001b[0;34m(\u001b[0m\u001b[0mself\u001b[0m\u001b[0;34m)\u001b[0m\u001b[0;34m\u001b[0m\u001b[0m\n\u001b[1;32m    421\u001b[0m             \u001b[0;32mwhile\u001b[0m \u001b[0;32mTrue\u001b[0m\u001b[0;34m:\u001b[0m\u001b[0;34m\u001b[0m\u001b[0m\n\u001b[0;32m--> 422\u001b[0;31m                 \u001b[0mself\u001b[0m\u001b[0;34m.\u001b[0m\u001b[0m_run_once\u001b[0m\u001b[0;34m(\u001b[0m\u001b[0;34m)\u001b[0m\u001b[0;34m\u001b[0m\u001b[0m\n\u001b[0m\u001b[1;32m    423\u001b[0m                 \u001b[0;32mif\u001b[0m \u001b[0mself\u001b[0m\u001b[0;34m.\u001b[0m\u001b[0m_stopping\u001b[0m\u001b[0;34m:\u001b[0m\u001b[0;34m\u001b[0m\u001b[0m\n\u001b[1;32m    424\u001b[0m                     \u001b[0;32mbreak\u001b[0m\u001b[0;34m\u001b[0m\u001b[0m\n",
      "\u001b[0;32m/usr/lib/python3.6/asyncio/base_events.py\u001b[0m in \u001b[0;36m_run_once\u001b[0;34m(self)\u001b[0m\n\u001b[1;32m   1394\u001b[0m                            timeout * 1e3, dt * 1e3)\n\u001b[1;32m   1395\u001b[0m         \u001b[0;32melse\u001b[0m\u001b[0;34m:\u001b[0m\u001b[0;34m\u001b[0m\u001b[0m\n\u001b[0;32m-> 1396\u001b[0;31m             \u001b[0mevent_list\u001b[0m \u001b[0;34m=\u001b[0m \u001b[0mself\u001b[0m\u001b[0;34m.\u001b[0m\u001b[0m_selector\u001b[0m\u001b[0;34m.\u001b[0m\u001b[0mselect\u001b[0m\u001b[0;34m(\u001b[0m\u001b[0mtimeout\u001b[0m\u001b[0;34m)\u001b[0m\u001b[0;34m\u001b[0m\u001b[0m\n\u001b[0m\u001b[1;32m   1397\u001b[0m         \u001b[0mself\u001b[0m\u001b[0;34m.\u001b[0m\u001b[0m_process_events\u001b[0m\u001b[0;34m(\u001b[0m\u001b[0mevent_list\u001b[0m\u001b[0;34m)\u001b[0m\u001b[0;34m\u001b[0m\u001b[0m\n\u001b[1;32m   1398\u001b[0m \u001b[0;34m\u001b[0m\u001b[0m\n",
      "\u001b[0;32m/usr/lib/python3.6/selectors.py\u001b[0m in \u001b[0;36mselect\u001b[0;34m(self, timeout)\u001b[0m\n\u001b[1;32m    443\u001b[0m             \u001b[0mready\u001b[0m \u001b[0;34m=\u001b[0m \u001b[0;34m[\u001b[0m\u001b[0;34m]\u001b[0m\u001b[0;34m\u001b[0m\u001b[0m\n\u001b[1;32m    444\u001b[0m             \u001b[0;32mtry\u001b[0m\u001b[0;34m:\u001b[0m\u001b[0;34m\u001b[0m\u001b[0m\n\u001b[0;32m--> 445\u001b[0;31m                 \u001b[0mfd_event_list\u001b[0m \u001b[0;34m=\u001b[0m \u001b[0mself\u001b[0m\u001b[0;34m.\u001b[0m\u001b[0m_epoll\u001b[0m\u001b[0;34m.\u001b[0m\u001b[0mpoll\u001b[0m\u001b[0;34m(\u001b[0m\u001b[0mtimeout\u001b[0m\u001b[0;34m,\u001b[0m \u001b[0mmax_ev\u001b[0m\u001b[0;34m)\u001b[0m\u001b[0;34m\u001b[0m\u001b[0m\n\u001b[0m\u001b[1;32m    446\u001b[0m             \u001b[0;32mexcept\u001b[0m \u001b[0mInterruptedError\u001b[0m\u001b[0;34m:\u001b[0m\u001b[0;34m\u001b[0m\u001b[0m\n\u001b[1;32m    447\u001b[0m                 \u001b[0;32mreturn\u001b[0m \u001b[0mready\u001b[0m\u001b[0;34m\u001b[0m\u001b[0m\n",
      "\u001b[0;31mKeyboardInterrupt\u001b[0m: "
     ]
    }
   ],
   "source": [
    "while True:\n",
    "    btn0.wait_for_value(1)\n",
    "    print('BTN0 has been pressed  😄')\n",
    "\n",
    "    btn0.wait_for_value(0)\n",
    "    print('BTN0 has been released 😔')"
   ]
  },
  {
   "cell_type": "markdown",
   "metadata": {},
   "source": [
    "We can now press and release the button many times and react to it with our code. We did tell Python to run this *forever* though... so this cell is still running! Only one cell can run at a time, so we will need to stop this before moving on. Stop this cell with the stop button (⏹️) in the toolbar.\n",
    "\n",
    "And don't panic! When we stop the cell, there will be a big, red, scary error. This is just letting us know that something (us!) has interrupted the cell. Let's try to hide this message using Python's error handling.\n",
    "\n",
    "We want to **try** running our loop forever, **except** when we get a `KeyboardInterrupt` event that comes from the stop button."
   ]
  },
  {
   "cell_type": "code",
   "execution_count": 14,
   "metadata": {},
   "outputs": [
    {
     "name": "stdout",
     "output_type": "stream",
     "text": [
      "BTN0 has been pressed  😄\n",
      "BTN0 has been released 😔\n",
      "BTN0 has been pressed  😄\n",
      "BTN0 has been released 😔\n",
      "Stopping the loop politely\n"
     ]
    }
   ],
   "source": [
    "try:\n",
    "    while True:\n",
    "        btn0.wait_for_value(1)\n",
    "        print('BTN0 has been pressed  😄')\n",
    "\n",
    "        btn0.wait_for_value(0)\n",
    "        print('BTN0 has been released 😔')\n",
    "    \n",
    "except KeyboardInterrupt:\n",
    "    print ('Stopping the loop politely')"
   ]
  },
  {
   "cell_type": "markdown",
   "metadata": {},
   "source": [
    "Neat! We've managed to hide the error message and exit the loop cleanly.\n",
    "\n",
    "We've shown you a simple way to react to button events now. This approach will be enough for most needs, although there are a few restrictions:\n",
    "\n",
    "  1. We can't do anything else in Python while we wait for a button to change value\n",
    "  2. We can only wait for one button at a time\n",
    "\n",
    "If you have time and are feeling brave, take a look at [a more complex example](./extra/ButtonsWithAsyncio.ipynb) that doesn't have these restrictions. This uses asynchronous programming, which can get a little mind-bending if you stare at it for too long."
   ]
  },
  {
   "cell_type": "markdown",
   "metadata": {},
   "source": [
    "## Summary\n",
    "\n",
    "You've nearly gone through all of the training for day 1 now! Let's just summarize what we've covered:\n",
    "\n",
    "  * Used system commands to get information specific to the PYNQ board\n",
    "  * Started to interact with the physical world from Python!\n",
    "    + Turning LEDs on and off\n",
    "    + Reading input from switches\n",
    "    + Reading input from push buttons\n",
    "    + Reacting dynamically to button presses\n",
    "\n",
    "This session will be running until 3:15, so feel free to try some of the following bonus challenges if you have time! \n",
    "\n",
    "### Bonus Challenges\n",
    "\n",
    "Again, if you finish this session early, there are some optional challenges for you to work through. You now know enough to try some pretty neat things with the PYNQ board's inputs and outputs. For example, try:\n",
    "\n",
    "  * Start by displaying a custom pattern on the 4 LEDs\n",
    "  * Now, try making this pattern rotate (LD0 becomes LD1, LD1 becomes LD2, etc.) when a button is pressed\n",
    "  * Let the direction of the rotation be set by one of the switches \n",
    "  * Try making an animation using the LEDs. Start simple, but get as complex as you'd like!\n",
    "  * Have a look at [a more powerful way](./extra/ButtonsWithAsyncio.ipynb) of listening for button events (This is pretty advanced!)\n",
    "  \n",
    "----\n",
    "\n",
    "[Back to the top](#Contents)\n",
    "\n",
    "----"
   ]
  }
 ],
 "metadata": {
  "celltoolbar": "Raw Cell Format",
  "kernelspec": {
   "display_name": "Python 3",
   "language": "python",
   "name": "python3"
  },
  "language_info": {
   "codemirror_mode": {
    "name": "ipython",
    "version": 3
   },
   "file_extension": ".py",
   "mimetype": "text/x-python",
   "name": "python",
   "nbconvert_exporter": "python",
   "pygments_lexer": "ipython3",
   "version": "3.6.5"
  }
 },
 "nbformat": 4,
 "nbformat_minor": 2
}
