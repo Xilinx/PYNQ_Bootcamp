{
 "cells": [
  {
   "cell_type": "markdown",
   "metadata": {},
   "source": [
    "# CDC Acceptance Test - Ardumoto\n",
    "\n",
    "### INTRODUCTION:\n",
    "\n",
    "This test is designed as part of acceptance testing of CDC produced Ardumoto  \n",
    "[Ardumoto](https://www.sparkfun.com/products/14180).\n",
    "Ardumoto can supports upto two DC motor, the test drives both the motors at different speed and direction to ensure module's integrity.\n",
    "\n",
    "### BACKGROUND:\n",
    "\n",
    "The Ardumoto shield can be mounted on the PYNQ Board similar to PYNQ arduino shield:\n",
    "Motor A and Motor B are connected as below to the arduino pins:\n",
    "\n",
    "| Pin number | Functionality                    |\n",
    "|------------|----------------------------------|\n",
    "| 2          | Direction control for motor A    |\n",
    "| 3          | PWM control (speed) for motor A  |\n",
    "| 4          | Direction control for motor B    |\n",
    "| 11         | PWM control (speed) for motor B  |\n",
    "\n",
    "### Motor Connections\n",
    "\n",
    "![alt text](ardumoto_wiring_cdc.jpg)\n"
   ]
  },
  {
   "cell_type": "markdown",
   "metadata": {},
   "source": [
    "## Setup the Motor Driver Validation Test"
   ]
  },
  {
   "cell_type": "code",
   "execution_count": 1,
   "metadata": {},
   "outputs": [
    {
     "data": {
      "application/javascript": [
       "\n",
       "try {\n",
       "require(['notebook/js/codecell'], function(codecell) {\n",
       "  codecell.CodeCell.options_default.highlight_modes[\n",
       "      'magic_text/x-csrc'] = {'reg':[/^%%microblaze/]};\n",
       "  Jupyter.notebook.events.one('kernel_ready.Kernel', function(){\n",
       "      Jupyter.notebook.get_cells().map(function(cell){\n",
       "          if (cell.cell_type == 'code'){ cell.auto_highlight(); } }) ;\n",
       "  });\n",
       "});\n",
       "} catch (e) {};\n"
      ]
     },
     "metadata": {},
     "output_type": "display_data"
    },
    {
     "data": {
      "application/javascript": [
       "\n",
       "try {\n",
       "require(['notebook/js/codecell'], function(codecell) {\n",
       "  codecell.CodeCell.options_default.highlight_modes[\n",
       "      'magic_text/x-csrc'] = {'reg':[/^%%pybind11/]};\n",
       "  Jupyter.notebook.events.one('kernel_ready.Kernel', function(){\n",
       "      Jupyter.notebook.get_cells().map(function(cell){\n",
       "          if (cell.cell_type == 'code'){ cell.auto_highlight(); } }) ;\n",
       "  });\n",
       "});\n",
       "} catch (e) {};\n"
      ]
     },
     "metadata": {},
     "output_type": "display_data"
    }
   ],
   "source": [
    "# Setup base PYNQ environment\n",
    "from pynq.overlays.base import BaseOverlay\n",
    "base = BaseOverlay(\"base.bit\")\n",
    "\n",
    "# Import sleep\n",
    "from time import sleep\n",
    "\n",
    "# Define constants to control motor direction\n",
    "MOTOR_A = 0\n",
    "MOTOR_B = 1\n",
    "POLAR_DEFAULT = 0\n",
    "POLAR_REVERSE = 1\n",
    "CLOCKWISE = 0\n",
    "ANTICLOCKWISE = 1"
   ]
  },
  {
   "cell_type": "code",
   "execution_count": 2,
   "metadata": {},
   "outputs": [],
   "source": [
    "%%microblaze base.ARDUINO\n",
    "\n",
    "#include \"xio_switch.h\"\n",
    "#include \"gpio.h\"\n",
    "#include \"timer.h\"\n",
    "\n",
    "#define DEFAULT_PERIOD 625998\n",
    "#define DEFAULT_DUTY 312998\n",
    "\n",
    "#define PWM_A_PIN 3\n",
    "#define PWM_B_PIN 11\n",
    "#define DIR_A_PIN 2\n",
    "#define DIR_B_PIN 4\n",
    "\n",
    "typedef enum motor {\n",
    "MOTOR_A = 0,\n",
    "MOTOR_B = 1,\n",
    "}motor_e;\n",
    "\n",
    "static unsigned int pol_a = 0, pol_b = 0;\n",
    "static unsigned int dir_a = 0, dir_b = 0;\n",
    "static unsigned int duty_a = 50, duty_b = 50;\n",
    "\n",
    "static timer timer_a;\n",
    "static timer timer_b;\n",
    "static gpio gpio_a;\n",
    "static gpio gpio_b;\n",
    "\n",
    "unsigned int init_ardumoto(){    \n",
    "    timer_a = timer_open_device(0);\n",
    "    timer_b = timer_open_device(5);\n",
    "    set_pin(PWM_A_PIN, PWM0);\n",
    "    set_pin(PWM_B_PIN, PWM5);\n",
    "    gpio_a = gpio_open(DIR_A_PIN);\n",
    "    gpio_b = gpio_open(DIR_B_PIN);\n",
    "    gpio_set_direction(gpio_a, GPIO_OUT);\n",
    "    gpio_set_direction(gpio_b, GPIO_OUT);\n",
    "    return 0;\n",
    "}\n",
    "\n",
    "void configure_polar(unsigned int motor, unsigned int polarity){\n",
    "    if (motor == MOTOR_A) {\n",
    "        pol_a = polarity;\n",
    "    }else if (motor == MOTOR_B) {\n",
    "        pol_b = polarity;\n",
    "    }\n",
    "}\n",
    "\n",
    "void set_direction(unsigned int motor, unsigned int direction){\n",
    "    if (motor == MOTOR_A){\n",
    "        dir_a = (direction)? pol_a : !pol_a;\n",
    "    }\n",
    "    else if (motor == MOTOR_B){\n",
    "        dir_b = (direction)? pol_b : !pol_b;\n",
    "    }\n",
    "}\n",
    "\n",
    "void set_speed(unsigned int motor, unsigned int speed){\n",
    "    if (motor == MOTOR_A) {\n",
    "        duty_a = speed;\n",
    "    } else if (motor == MOTOR_B) {\n",
    "        duty_b = speed;\n",
    "    }\n",
    "}\n",
    "\n",
    "void run(unsigned int motor){\n",
    "    if (motor == MOTOR_A) {\n",
    "        gpio_write(gpio_a, dir_a);\n",
    "        timer_pwm_generate(timer_a, DEFAULT_PERIOD, \n",
    "                           duty_a*DEFAULT_PERIOD/100);\n",
    "    }else if(motor == MOTOR_B) {\n",
    "        gpio_write(gpio_b, dir_b);\n",
    "        timer_pwm_generate(timer_b, DEFAULT_PERIOD, \n",
    "                           duty_b*DEFAULT_PERIOD/100);\n",
    "    }\n",
    "}\n",
    "\n",
    "void stop(unsigned int motor){\n",
    "    if (motor == MOTOR_A) {\n",
    "        timer_pwm_stop(timer_a);\n",
    "    }else if (motor == MOTOR_B){\n",
    "        timer_pwm_stop(timer_b);\n",
    "    }\n",
    "}"
   ]
  },
  {
   "cell_type": "code",
   "execution_count": 3,
   "metadata": {},
   "outputs": [],
   "source": [
    "init_ardumoto()\n",
    "\n",
    "configure_polar(MOTOR_A, POLAR_DEFAULT) \n",
    "configure_polar(MOTOR_B, POLAR_DEFAULT)"
   ]
  },
  {
   "cell_type": "markdown",
   "metadata": {},
   "source": [
    "# CDC Test 1: Run Both Motors Clockwise at Low Speed\n",
    "\n",
    "### Test Aim: \n",
    "Check if the Ardumoto shield can run both motors clockwise at low speed\n",
    "\n",
    "### Test Expectation: \n",
    "Both motors run clockwise at the same low speed (10%)"
   ]
  },
  {
   "cell_type": "code",
   "execution_count": 4,
   "metadata": {},
   "outputs": [
    {
     "name": "stdout",
     "output_type": "stream",
     "text": [
      "Running Motors A and B at 10% speed for 3 seconds\n",
      "Stopping Motors A and B\n"
     ]
    }
   ],
   "source": [
    "from time import sleep\n",
    "\n",
    "set_direction(MOTOR_A, CLOCKWISE)\n",
    "set_direction(MOTOR_B, CLOCKWISE)\n",
    "set_speed(MOTOR_A, 8)\n",
    "set_speed(MOTOR_B, 8)\n",
    "\n",
    "print('Running Motors A and B at 10% speed for 3 seconds')\n",
    "run(MOTOR_A)\n",
    "run(MOTOR_B)\n",
    "\n",
    "sleep(3)\n",
    "\n",
    "print('Stopping Motors A and B')\n",
    "stop(MOTOR_A)\n",
    "stop(MOTOR_B)\n",
    "sleep(3)"
   ]
  },
  {
   "cell_type": "markdown",
   "metadata": {},
   "source": [
    "# CDC Test 2: Run Both Motors Counterclockwise at Low Speed\n",
    "\n",
    "### Test Aim: \n",
    "Check if the Ardumoto shield can run both motors counterclockwise at low speed\n",
    "\n",
    "### Test Expectation: \n",
    "Both motors run counterclockwise at the same low speed (10%)"
   ]
  },
  {
   "cell_type": "code",
   "execution_count": 5,
   "metadata": {},
   "outputs": [
    {
     "name": "stdout",
     "output_type": "stream",
     "text": [
      "Running Motors A and B at 10% speed for 3 seconds\n",
      "Stopping Motors A and B\n"
     ]
    }
   ],
   "source": [
    "from time import sleep\n",
    "\n",
    "set_direction(MOTOR_A, ANTICLOCKWISE)\n",
    "set_direction(MOTOR_B, ANTICLOCKWISE)\n",
    "set_speed(MOTOR_A, 10)\n",
    "set_speed(MOTOR_B, 10)\n",
    "\n",
    "print('Running Motors A and B at 10% speed for 3 seconds')\n",
    "run(MOTOR_A)\n",
    "run(MOTOR_B)\n",
    "\n",
    "sleep(3)\n",
    "\n",
    "print('Stopping Motors A and B')\n",
    "stop(MOTOR_A)\n",
    "stop(MOTOR_B)\n",
    "sleep(3)"
   ]
  },
  {
   "cell_type": "markdown",
   "metadata": {},
   "source": [
    "# CDC Test 3: Run Both Motors in Opposite Directions at Low Speed\n",
    "\n",
    "### Test Aim: \n",
    "Check if the Ardumoto Shield can run both motors at low speed in opposite directions\n",
    "\n",
    "### Test Expectation: \n",
    "Both motors run in opposite directions at the same low speed (10%)"
   ]
  },
  {
   "cell_type": "code",
   "execution_count": 6,
   "metadata": {},
   "outputs": [
    {
     "name": "stdout",
     "output_type": "stream",
     "text": [
      "Running Motors A and B and 10% speed for 3 seconds\n",
      "Stopping Motors A and B\n"
     ]
    }
   ],
   "source": [
    "from time import sleep\n",
    "\n",
    "set_direction(MOTOR_A, CLOCKWISE)\n",
    "set_direction(MOTOR_B, ANTICLOCKWISE)\n",
    "set_speed(MOTOR_A, 10)\n",
    "set_speed(MOTOR_B, 10)\n",
    "\n",
    "print('Running Motors A and B and 10% speed for 3 seconds')\n",
    "run(MOTOR_A)\n",
    "run(MOTOR_B)\n",
    "\n",
    "sleep(3)\n",
    "\n",
    "print('Stopping Motors A and B')\n",
    "stop(MOTOR_A)\n",
    "stop(MOTOR_B)\n",
    "sleep(3)"
   ]
  },
  {
   "cell_type": "markdown",
   "metadata": {},
   "source": [
    "# CDC Test 4: Run Both Motors Clockwise at High Speed\n",
    "\n",
    "### Test Aim: \n",
    "Check if the Ardumoto shield can run both motors clockwise at high speed\n",
    "\n",
    "### Test Expectation: \n",
    "Both motors run clockwise at the same high speed (90%)"
   ]
  },
  {
   "cell_type": "code",
   "execution_count": 7,
   "metadata": {},
   "outputs": [
    {
     "name": "stdout",
     "output_type": "stream",
     "text": [
      "Running Motors A and B at 90% speed for 3 seconds\n",
      "Stopping Motors A and B\n"
     ]
    }
   ],
   "source": [
    "from time import sleep\n",
    "\n",
    "set_direction(MOTOR_A, CLOCKWISE)\n",
    "set_direction(MOTOR_B, CLOCKWISE)\n",
    "set_speed(MOTOR_A, 90)\n",
    "set_speed(MOTOR_B, 90)\n",
    "\n",
    "print('Running Motors A and B at 90% speed for 3 seconds')\n",
    "run(MOTOR_A)\n",
    "run(MOTOR_B)\n",
    "\n",
    "sleep(3)\n",
    "\n",
    "print('Stopping Motors A and B')\n",
    "stop(MOTOR_A)\n",
    "stop(MOTOR_B)\n",
    "sleep(3)"
   ]
  },
  {
   "cell_type": "markdown",
   "metadata": {},
   "source": [
    "# CDC Test 5: Run Both Motors at Counterclockwise at High Speed\n",
    "\n",
    "### Test Aim: \n",
    "Check if the Ardumoto Shield can run both motors counterclockwise at high speed\n",
    "\n",
    "### Test Expectation: \n",
    "Both motors run counterclockwise at the same high speed (90%)"
   ]
  },
  {
   "cell_type": "code",
   "execution_count": 8,
   "metadata": {},
   "outputs": [
    {
     "name": "stdout",
     "output_type": "stream",
     "text": [
      "Running Motors A and B and 90% speed for 3 seconds\n",
      "Stopping Motors A and B\n"
     ]
    }
   ],
   "source": [
    "from time import sleep\n",
    "\n",
    "set_direction(MOTOR_A, ANTICLOCKWISE)\n",
    "set_direction(MOTOR_B, ANTICLOCKWISE)\n",
    "set_speed(MOTOR_A, 90)\n",
    "set_speed(MOTOR_B, 90)\n",
    "\n",
    "print('Running Motors A and B and 90% speed for 3 seconds')\n",
    "run(MOTOR_A)\n",
    "run(MOTOR_B)\n",
    "\n",
    "sleep(3)\n",
    "\n",
    "print('Stopping Motors A and B')\n",
    "stop(MOTOR_A)\n",
    "stop(MOTOR_B)\n",
    "sleep(3)"
   ]
  },
  {
   "cell_type": "markdown",
   "metadata": {},
   "source": [
    "# CDC Test 6: Run Both Motors in Opposite Directions at High Speed\n",
    "\n",
    "### Test Aim: \n",
    "Check if the Ardumoto Shield can run both motors at high speed in opposite directions\n",
    "\n",
    "### Test Expectation: \n",
    "Both motors run in opposite directions at the same high speed (90%)"
   ]
  },
  {
   "cell_type": "code",
   "execution_count": 9,
   "metadata": {},
   "outputs": [
    {
     "name": "stdout",
     "output_type": "stream",
     "text": [
      "Running Motors A and B at 90% speed for 3 seconds\n",
      "Stopping Motors A and B\n"
     ]
    }
   ],
   "source": [
    "from time import sleep\n",
    "\n",
    "set_direction(MOTOR_A, ANTICLOCKWISE)\n",
    "set_direction(MOTOR_B, CLOCKWISE)\n",
    "set_speed(MOTOR_A, 90)\n",
    "set_speed(MOTOR_B, 90)\n",
    "\n",
    "print('Running Motors A and B at 90% speed for 3 seconds')\n",
    "run(MOTOR_A)\n",
    "run(MOTOR_B)\n",
    "\n",
    "sleep(3)\n",
    "\n",
    "print('Stopping Motors A and B')\n",
    "stop(MOTOR_A)\n",
    "stop(MOTOR_B)\n",
    "sleep(3)"
   ]
  }
 ],
 "metadata": {
  "kernelspec": {
   "display_name": "Python 3",
   "language": "python",
   "name": "python3"
  },
  "language_info": {
   "codemirror_mode": {
    "name": "ipython",
    "version": 3
   },
   "file_extension": ".py",
   "mimetype": "text/x-python",
   "name": "python",
   "nbconvert_exporter": "python",
   "pygments_lexer": "ipython3",
   "version": "3.6.5"
  }
 },
 "nbformat": 4,
 "nbformat_minor": 1
}
